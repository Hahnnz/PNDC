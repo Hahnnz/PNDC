{
 "cells": [
  {
   "cell_type": "code",
   "execution_count": 1,
   "metadata": {},
   "outputs": [],
   "source": [
    "import numpy as np\n",
    "import matplotlib.pyplot as plt\n",
    "import cv2\n",
    "import sys\n",
    "caffe_root = './caffe_o/' \n",
    "#sys.path.append('/usr/local/lib/python2.7/site-packages')\n",
    "sys.path.insert(0, caffe_root + 'python')\n",
    "import caffe\n",
    "caffe.set_mode_gpu()\n",
    "global Sliced\n",
    "Sliced=list()\n",
    "global Slided\n",
    "Slided=list()\n",
    "%matplotlib inline"
   ]
  },
  {
   "cell_type": "code",
   "execution_count": 2,
   "metadata": {},
   "outputs": [],
   "source": [
    "def SWL(img,time,Type): # Slice_Window = C / Slide_window = D\n",
    "    if Type == \"C\":\n",
    "        del Sliced[:]\n",
    "        count=0 #(time*time)-1\n",
    "        size=img.shape[0]\n",
    "        x_axis , y_axis = img.shape[:2]\n",
    "        crop_size=size/time\n",
    "        for i in range(size/crop_size):\n",
    "            for j in range(size/crop_size):\n",
    "                crop_img=img[((crop_size)*i):((crop_size)*(i+1)), ((crop_size)*j):((crop_size)*(j+1))]\n",
    "                Sliced.insert(count,crop_img)\n",
    "                count+=1\n",
    "        print \"Slicing Done\"\n",
    "    elif Type == \"D\":\n",
    "        del Slided[:]\n",
    "        window = [0,63,0,63]\n",
    "        count=0\n",
    "        size=img.shape[0]\n",
    "        x_axis , y_axis = img.shape[:2]\n",
    "        \n",
    "        while True :\n",
    "            crop_img=img[window[0]:window[1]+1,window[2]:window[3]+1]\n",
    "            Slided.insert(count,crop_img)\n",
    "            count+=1\n",
    "            window[0]+=512/time\n",
    "            window[1]+=512/time\n",
    "            #print \"coor1 : \"+str(window[0])\n",
    "            #print \"coor2 : \"+str(window[1])\n",
    "            if window[1] == 511:\n",
    "                window[0]=0\n",
    "                window[1]=63\n",
    "                window[2]+=512/time\n",
    "                window[3]+=512/time\n",
    "            \n",
    "            if window[3] == 511:\n",
    "                break\n",
    "        print \"Sliding Done\"       \n",
    "        \n",
    "    else:\n",
    "        print \"Please Check your layer type\"\n",
    "        print \"Slice_Window = C / Slide_window = D\""
   ]
  },
  {
   "cell_type": "code",
   "execution_count": 3,
   "metadata": {},
   "outputs": [],
   "source": [
    "def Masking(img,mask,countNum,Class,Type):\n",
    "    hello = X_coor = Y_coor = 0\n",
    "    while True:\n",
    "        if Type == \"C\":\n",
    "            if countNum<8:\n",
    "                break\n",
    "            countNum-=8\n",
    "            hello+=64\n",
    "            X_coor=hello\n",
    "            Y_coor=64*countNum\n",
    "        elif Type==\"D\":\n",
    "            if countNum<28:\n",
    "                break\n",
    "            countNum-=28\n",
    "            hello+=16\n",
    "            X_coor=countNum*16\n",
    "            Y_coor=hello\n",
    "        \n",
    "    if Class==\"M\":\n",
    "        for i in range(64):\n",
    "            for j in range(64):\n",
    "                if Type==\"C\":\n",
    "                    img[X_coor+i][Y_coor+j][0]=200\n",
    "                elif img[X_coor+i][Y_coor+j][0]<255 and Type==\"D\":\n",
    "                    #img[X_coor+i][Y_coor+j][0]+=15\n",
    "                    mask[X_coor+i][Y_coor+j][0]+=1\n",
    "    if Class==\"B\":\n",
    "        for i in range(64):\n",
    "            for j in range(64):\n",
    "                if Type==\"C\":\n",
    "                    img[X_coor+i][Y_coor+j][2]+=200\n",
    "                elif img[X_coor+i][Y_coor+j][2]<255 and Type==\"D\":\n",
    "                    #img[X_coor+i][Y_coor+j][2]+=15\n",
    "                    mask[X_coor+i][Y_coor+j][2]+=1"
   ]
  },
  {
   "cell_type": "code",
   "execution_count": 4,
   "metadata": {},
   "outputs": [],
   "source": [
    "#def Predict(model,pretrained,image,label,image_name,Type):\n",
    "def Predict(model,pretrained,image,image_name,Type):\n",
    "    net = caffe.Net(model, pretrained, caffe.TEST)\n",
    "    img = np.array(cv2.imread(image))\n",
    "    Detected=cv2.imread(\"/home/dl5/check.jpg\")\n",
    "    #ROI = np.array(cv2.imread(label))\n",
    "    result = np.array(cv2.imread(image))\n",
    "    \"\"\"\n",
    "    for i in range(512):\n",
    "        for j in range(512):\n",
    "            if ROI[i][j][0] >0:\n",
    "                result[i][j][1]=255\n",
    "    \"\"\"\n",
    "    batch_size=32\n",
    "    former=0\n",
    "    Iter = 0\n",
    "    time=32\n",
    "    count =0\n",
    "    \n",
    "    SWL(img,time,Type)\n",
    "    \n",
    "    if Type==\"C\":\n",
    "        Num=time*time/batch_size\n",
    "    elif Type==\"D\":\n",
    "        Num=len(Slided)/batch_size\n",
    "    \n",
    "    for Iter in range(Num) :\n",
    "        for i in range(batch_size):\n",
    "            if Type==\"C\":\n",
    "                Input=Sliced[i+(Iter*batch_size)]\n",
    "            elif Type == \"D\":\n",
    "                Input=Slided[i+(Iter*batch_size)]\n",
    "            im_input=Input[np.newaxis, np.newaxis :, :]\n",
    "            img = im_input.transpose( (0,3,1,2) )\n",
    "            net.blobs['data'].data[i][...] = img\n",
    "            \n",
    "        output=net.forward()\n",
    "        \n",
    "        for i in range(batch_size):\n",
    "            a = net.blobs[\"fc2\"].data[i][0]\n",
    "            b = net.blobs[\"fc2\"].data[i][1]\n",
    "            c = net.blobs[\"fc2\"].data[i][2]\n",
    "            count+=1\n",
    "            if b>a and b>c:\n",
    "                Masking(result,Detected,i+(Iter*batch_size),\"B\",Type)\n",
    "            elif c>a and c>b:\n",
    "                Masking(result,Detected,i+(Iter*batch_size),\"M\",Type)\n",
    "        if Type==\"D\":\n",
    "            hello=Iter/10000\n",
    "            if(former is not hello):\n",
    "                print str(Iter)+\" images processed\"\n",
    "                former=hello\n",
    "        count+=1\n",
    "                \n",
    "    for aa in range(512):\n",
    "        for bb in range(512):\n",
    "            if Detected[aa][bb][0] >10:\n",
    "                result[aa][bb][0]+=200\n",
    "            if Detected[aa][bb][2] >10:\n",
    "                result[aa][bb][2]+=200\n",
    "    plt.imshow(result)\n",
    "    cv2.imwrite(\"/home/dl5/TEST/Result/\"+image_name[:-5:]+\"_result.jpg\", result)"
   ]
  },
  {
   "cell_type": "code",
   "execution_count": null,
   "metadata": {
    "scrolled": true
   },
   "outputs": [],
   "source": [
    "#train_image = open(\"/home/dl5/src/P1/dataset/val/val_image.txt\", 'r')\n",
    "#label_image = open(\"/home/dl5/src/P1/dataset/val/val_mask.txt\", 'r')\n",
    "#image_names = open(\"/home/dl5/src/P1/dataset/val/val_images.txt\", 'r')\n",
    "model = '/home/dl5/TEST/deploy.prototxt'\n",
    "pre = '/home/dl5/TEST/CNN-new3_iter_100000.caffemodel'\n",
    "TEST_image = open(\"/home/dl5/TEST/TEST/TEST.txt\",\"r\")\n",
    "TEST_name = open(\"/home/dl5/TEST/TEST/name.txt\",\"r\")\n",
    "\n",
    "for a in range(1):\n",
    "    location = TEST_image.readline()\n",
    "    img_location=location[:-1]\n",
    "    \n",
    "    #location = label_image.readline()\n",
    "    #mask_location=location[:-2:]\n",
    "    \n",
    "    name = TEST_name.readline()\n",
    "    Predict(model,pre,img_location,name,\"D\")\n",
    "    #Predict(model,pre,image,label,\"p1026r020.jpg\",\"D\")"
   ]
  },
  {
   "cell_type": "code",
   "execution_count": 6,
   "metadata": {
    "scrolled": true
   },
   "outputs": [
    {
     "name": "stdout",
     "output_type": "stream",
     "text": [
      "Sliding Done\n"
     ]
    },
    {
     "ename": "TypeError",
     "evalue": "'NoneType' object has no attribute '__getitem__'",
     "output_type": "error",
     "traceback": [
      "\u001b[0;31m---------------------------------------------------------------------------\u001b[0m",
      "\u001b[0;31mTypeError\u001b[0m                                 Traceback (most recent call last)",
      "\u001b[0;32m<ipython-input-6-a1fe6a12d77f>\u001b[0m in \u001b[0;36m<module>\u001b[0;34m()\u001b[0m\n\u001b[1;32m      4\u001b[0m \u001b[0mimage\u001b[0m \u001b[0;34m=\u001b[0m \u001b[0;34m\"/home/dl5/TEST/TEST/003/p1t003i001.jpg\"\u001b[0m\u001b[0;34m\u001b[0m\u001b[0m\n\u001b[1;32m      5\u001b[0m \u001b[0;31m#label=\"/home/dl5/src/P1/dataset/val/labels/p1026r020.jpg\"\u001b[0m\u001b[0;34m\u001b[0m\u001b[0;34m\u001b[0m\u001b[0m\n\u001b[0;32m----> 6\u001b[0;31m \u001b[0mPredict\u001b[0m\u001b[0;34m(\u001b[0m\u001b[0mmodel\u001b[0m\u001b[0;34m,\u001b[0m\u001b[0mpre\u001b[0m\u001b[0;34m,\u001b[0m\u001b[0mimage\u001b[0m\u001b[0;34m,\u001b[0m\u001b[0;34m\"p1026r020.jpg\"\u001b[0m\u001b[0;34m,\u001b[0m\u001b[0;34m\"D\"\u001b[0m\u001b[0;34m)\u001b[0m\u001b[0;34m\u001b[0m\u001b[0m\n\u001b[0m",
      "\u001b[0;32m<ipython-input-4-308c5c222c0f>\u001b[0m in \u001b[0;36mPredict\u001b[0;34m(model, pretrained, image, image_name, Type)\u001b[0m\n\u001b[1;32m     45\u001b[0m                 \u001b[0mMasking\u001b[0m\u001b[0;34m(\u001b[0m\u001b[0mresult\u001b[0m\u001b[0;34m,\u001b[0m\u001b[0mDetected\u001b[0m\u001b[0;34m,\u001b[0m\u001b[0mi\u001b[0m\u001b[0;34m+\u001b[0m\u001b[0;34m(\u001b[0m\u001b[0mIter\u001b[0m\u001b[0;34m*\u001b[0m\u001b[0mbatch_size\u001b[0m\u001b[0;34m)\u001b[0m\u001b[0;34m,\u001b[0m\u001b[0;34m\"B\"\u001b[0m\u001b[0;34m,\u001b[0m\u001b[0mType\u001b[0m\u001b[0;34m)\u001b[0m\u001b[0;34m\u001b[0m\u001b[0m\n\u001b[1;32m     46\u001b[0m             \u001b[0;32melif\u001b[0m \u001b[0mc\u001b[0m\u001b[0;34m>\u001b[0m\u001b[0ma\u001b[0m \u001b[0;32mand\u001b[0m \u001b[0mc\u001b[0m\u001b[0;34m>\u001b[0m\u001b[0mb\u001b[0m\u001b[0;34m:\u001b[0m\u001b[0;34m\u001b[0m\u001b[0m\n\u001b[0;32m---> 47\u001b[0;31m                 \u001b[0mMasking\u001b[0m\u001b[0;34m(\u001b[0m\u001b[0mresult\u001b[0m\u001b[0;34m,\u001b[0m\u001b[0mDetected\u001b[0m\u001b[0;34m,\u001b[0m\u001b[0mi\u001b[0m\u001b[0;34m+\u001b[0m\u001b[0;34m(\u001b[0m\u001b[0mIter\u001b[0m\u001b[0;34m*\u001b[0m\u001b[0mbatch_size\u001b[0m\u001b[0;34m)\u001b[0m\u001b[0;34m,\u001b[0m\u001b[0;34m\"M\"\u001b[0m\u001b[0;34m,\u001b[0m\u001b[0mType\u001b[0m\u001b[0;34m)\u001b[0m\u001b[0;34m\u001b[0m\u001b[0m\n\u001b[0m\u001b[1;32m     48\u001b[0m         \u001b[0;32mif\u001b[0m \u001b[0mType\u001b[0m\u001b[0;34m==\u001b[0m\u001b[0;34m\"D\"\u001b[0m\u001b[0;34m:\u001b[0m\u001b[0;34m\u001b[0m\u001b[0m\n\u001b[1;32m     49\u001b[0m             \u001b[0mhello\u001b[0m\u001b[0;34m=\u001b[0m\u001b[0mIter\u001b[0m\u001b[0;34m/\u001b[0m\u001b[0;36m10000\u001b[0m\u001b[0;34m\u001b[0m\u001b[0m\n",
      "\u001b[0;32m<ipython-input-3-4ad1b0d67449>\u001b[0m in \u001b[0;36mMasking\u001b[0;34m(img, mask, countNum, Class, Type)\u001b[0m\n\u001b[1;32m     24\u001b[0m                 \u001b[0;32melif\u001b[0m \u001b[0mimg\u001b[0m\u001b[0;34m[\u001b[0m\u001b[0mX_coor\u001b[0m\u001b[0;34m+\u001b[0m\u001b[0mi\u001b[0m\u001b[0;34m]\u001b[0m\u001b[0;34m[\u001b[0m\u001b[0mY_coor\u001b[0m\u001b[0;34m+\u001b[0m\u001b[0mj\u001b[0m\u001b[0;34m]\u001b[0m\u001b[0;34m[\u001b[0m\u001b[0;36m0\u001b[0m\u001b[0;34m]\u001b[0m\u001b[0;34m<\u001b[0m\u001b[0;36m255\u001b[0m \u001b[0;32mand\u001b[0m \u001b[0mType\u001b[0m\u001b[0;34m==\u001b[0m\u001b[0;34m\"D\"\u001b[0m\u001b[0;34m:\u001b[0m\u001b[0;34m\u001b[0m\u001b[0m\n\u001b[1;32m     25\u001b[0m                     \u001b[0;31m#img[X_coor+i][Y_coor+j][0]+=15\u001b[0m\u001b[0;34m\u001b[0m\u001b[0;34m\u001b[0m\u001b[0m\n\u001b[0;32m---> 26\u001b[0;31m                     \u001b[0mmask\u001b[0m\u001b[0;34m[\u001b[0m\u001b[0mX_coor\u001b[0m\u001b[0;34m+\u001b[0m\u001b[0mi\u001b[0m\u001b[0;34m]\u001b[0m\u001b[0;34m[\u001b[0m\u001b[0mY_coor\u001b[0m\u001b[0;34m+\u001b[0m\u001b[0mj\u001b[0m\u001b[0;34m]\u001b[0m\u001b[0;34m[\u001b[0m\u001b[0;36m0\u001b[0m\u001b[0;34m]\u001b[0m\u001b[0;34m+=\u001b[0m\u001b[0;36m1\u001b[0m\u001b[0;34m\u001b[0m\u001b[0m\n\u001b[0m\u001b[1;32m     27\u001b[0m     \u001b[0;32mif\u001b[0m \u001b[0mClass\u001b[0m\u001b[0;34m==\u001b[0m\u001b[0;34m\"B\"\u001b[0m\u001b[0;34m:\u001b[0m\u001b[0;34m\u001b[0m\u001b[0m\n\u001b[1;32m     28\u001b[0m         \u001b[0;32mfor\u001b[0m \u001b[0mi\u001b[0m \u001b[0;32min\u001b[0m \u001b[0mrange\u001b[0m\u001b[0;34m(\u001b[0m\u001b[0;36m64\u001b[0m\u001b[0;34m)\u001b[0m\u001b[0;34m:\u001b[0m\u001b[0;34m\u001b[0m\u001b[0m\n",
      "\u001b[0;31mTypeError\u001b[0m: 'NoneType' object has no attribute '__getitem__'"
     ]
    }
   ],
   "source": [
    "model = '/home/dl5/TEST/deploy.prototxt'\n",
    "pre = '/home/dl5/TEST/CNN-new3_iter_100000.caffemodel'\n",
    "#image = \"/home/dl5/src/P1/dataset/val/images/p1026i020.jpg\"\n",
    "image = \"/home/dl5/TEST/TEST/003/p1t003i001.jpg\"\n",
    "#label=\"/home/dl5/src/P1/dataset/val/labels/p1026r020.jpg\"\n",
    "Predict(model,pre,image,\"p1026r020.jpg\",\"D\")"
   ]
  },
  {
   "cell_type": "code",
   "execution_count": 29,
   "metadata": {
    "collapsed": true
   },
   "outputs": [
    {
     "ename": "NameError",
     "evalue": "name 'sliced' is not defined",
     "output_type": "error",
     "traceback": [
      "\u001b[0;31m---------------------------------------------------------------------------\u001b[0m",
      "\u001b[0;31mNameError\u001b[0m                                 Traceback (most recent call last)",
      "\u001b[0;32m<ipython-input-29-811286820359>\u001b[0m in \u001b[0;36m<module>\u001b[0;34m()\u001b[0m\n\u001b[0;32m----> 1\u001b[0;31m \u001b[0;32mprint\u001b[0m \u001b[0msliced\u001b[0m\u001b[0;34m.\u001b[0m\u001b[0mshape\u001b[0m\u001b[0;34m\u001b[0m\u001b[0m\n\u001b[0m",
      "\u001b[0;31mNameError\u001b[0m: name 'sliced' is not defined"
     ]
    }
   ],
   "source": [
    "print Sliced.shape"
   ]
  },
  {
   "cell_type": "code",
   "execution_count": 7,
   "metadata": {},
   "outputs": [
    {
     "ename": "TypeError",
     "evalue": "Image data can not convert to float",
     "output_type": "error",
     "traceback": [
      "\u001b[0;31m---------------------------------------------------------------------------\u001b[0m",
      "\u001b[0;31mTypeError\u001b[0m                                 Traceback (most recent call last)",
      "\u001b[0;32m<ipython-input-7-22b14d20e560>\u001b[0m in \u001b[0;36m<module>\u001b[0;34m()\u001b[0m\n\u001b[1;32m      1\u001b[0m \u001b[0mimim\u001b[0m\u001b[0;34m=\u001b[0m\u001b[0mcv2\u001b[0m\u001b[0;34m.\u001b[0m\u001b[0mimread\u001b[0m\u001b[0;34m(\u001b[0m\u001b[0;34m\"/home/dl1/src/P1/dataset/val/images/p1026i020.jpg\"\u001b[0m\u001b[0;34m)\u001b[0m\u001b[0;34m\u001b[0m\u001b[0m\n\u001b[0;32m----> 2\u001b[0;31m \u001b[0mplt\u001b[0m\u001b[0;34m.\u001b[0m\u001b[0mimshow\u001b[0m\u001b[0;34m(\u001b[0m\u001b[0mimim\u001b[0m\u001b[0;34m)\u001b[0m\u001b[0;34m\u001b[0m\u001b[0m\n\u001b[0m",
      "\u001b[0;32m/usr/local/lib/python2.7/dist-packages/matplotlib/pyplot.pyc\u001b[0m in \u001b[0;36mimshow\u001b[0;34m(X, cmap, norm, aspect, interpolation, alpha, vmin, vmax, origin, extent, shape, filternorm, filterrad, imlim, resample, url, hold, data, **kwargs)\u001b[0m\n\u001b[1;32m   3155\u001b[0m                         \u001b[0mfilternorm\u001b[0m\u001b[0;34m=\u001b[0m\u001b[0mfilternorm\u001b[0m\u001b[0;34m,\u001b[0m \u001b[0mfilterrad\u001b[0m\u001b[0;34m=\u001b[0m\u001b[0mfilterrad\u001b[0m\u001b[0;34m,\u001b[0m\u001b[0;34m\u001b[0m\u001b[0m\n\u001b[1;32m   3156\u001b[0m                         \u001b[0mimlim\u001b[0m\u001b[0;34m=\u001b[0m\u001b[0mimlim\u001b[0m\u001b[0;34m,\u001b[0m \u001b[0mresample\u001b[0m\u001b[0;34m=\u001b[0m\u001b[0mresample\u001b[0m\u001b[0;34m,\u001b[0m \u001b[0murl\u001b[0m\u001b[0;34m=\u001b[0m\u001b[0murl\u001b[0m\u001b[0;34m,\u001b[0m \u001b[0mdata\u001b[0m\u001b[0;34m=\u001b[0m\u001b[0mdata\u001b[0m\u001b[0;34m,\u001b[0m\u001b[0;34m\u001b[0m\u001b[0m\n\u001b[0;32m-> 3157\u001b[0;31m                         **kwargs)\n\u001b[0m\u001b[1;32m   3158\u001b[0m     \u001b[0;32mfinally\u001b[0m\u001b[0;34m:\u001b[0m\u001b[0;34m\u001b[0m\u001b[0m\n\u001b[1;32m   3159\u001b[0m         \u001b[0max\u001b[0m\u001b[0;34m.\u001b[0m\u001b[0m_hold\u001b[0m \u001b[0;34m=\u001b[0m \u001b[0mwashold\u001b[0m\u001b[0;34m\u001b[0m\u001b[0m\n",
      "\u001b[0;32m/usr/local/lib/python2.7/dist-packages/matplotlib/__init__.pyc\u001b[0m in \u001b[0;36minner\u001b[0;34m(ax, *args, **kwargs)\u001b[0m\n\u001b[1;32m   1896\u001b[0m                     warnings.warn(msg % (label_namer, func.__name__),\n\u001b[1;32m   1897\u001b[0m                                   RuntimeWarning, stacklevel=2)\n\u001b[0;32m-> 1898\u001b[0;31m             \u001b[0;32mreturn\u001b[0m \u001b[0mfunc\u001b[0m\u001b[0;34m(\u001b[0m\u001b[0max\u001b[0m\u001b[0;34m,\u001b[0m \u001b[0;34m*\u001b[0m\u001b[0margs\u001b[0m\u001b[0;34m,\u001b[0m \u001b[0;34m**\u001b[0m\u001b[0mkwargs\u001b[0m\u001b[0;34m)\u001b[0m\u001b[0;34m\u001b[0m\u001b[0m\n\u001b[0m\u001b[1;32m   1899\u001b[0m         \u001b[0mpre_doc\u001b[0m \u001b[0;34m=\u001b[0m \u001b[0minner\u001b[0m\u001b[0;34m.\u001b[0m\u001b[0m__doc__\u001b[0m\u001b[0;34m\u001b[0m\u001b[0m\n\u001b[1;32m   1900\u001b[0m         \u001b[0;32mif\u001b[0m \u001b[0mpre_doc\u001b[0m \u001b[0;32mis\u001b[0m \u001b[0mNone\u001b[0m\u001b[0;34m:\u001b[0m\u001b[0;34m\u001b[0m\u001b[0m\n",
      "\u001b[0;32m/usr/local/lib/python2.7/dist-packages/matplotlib/axes/_axes.pyc\u001b[0m in \u001b[0;36mimshow\u001b[0;34m(self, X, cmap, norm, aspect, interpolation, alpha, vmin, vmax, origin, extent, shape, filternorm, filterrad, imlim, resample, url, **kwargs)\u001b[0m\n\u001b[1;32m   5122\u001b[0m                               resample=resample, **kwargs)\n\u001b[1;32m   5123\u001b[0m \u001b[0;34m\u001b[0m\u001b[0m\n\u001b[0;32m-> 5124\u001b[0;31m         \u001b[0mim\u001b[0m\u001b[0;34m.\u001b[0m\u001b[0mset_data\u001b[0m\u001b[0;34m(\u001b[0m\u001b[0mX\u001b[0m\u001b[0;34m)\u001b[0m\u001b[0;34m\u001b[0m\u001b[0m\n\u001b[0m\u001b[1;32m   5125\u001b[0m         \u001b[0mim\u001b[0m\u001b[0;34m.\u001b[0m\u001b[0mset_alpha\u001b[0m\u001b[0;34m(\u001b[0m\u001b[0malpha\u001b[0m\u001b[0;34m)\u001b[0m\u001b[0;34m\u001b[0m\u001b[0m\n\u001b[1;32m   5126\u001b[0m         \u001b[0;32mif\u001b[0m \u001b[0mim\u001b[0m\u001b[0;34m.\u001b[0m\u001b[0mget_clip_path\u001b[0m\u001b[0;34m(\u001b[0m\u001b[0;34m)\u001b[0m \u001b[0;32mis\u001b[0m \u001b[0mNone\u001b[0m\u001b[0;34m:\u001b[0m\u001b[0;34m\u001b[0m\u001b[0m\n",
      "\u001b[0;32m/usr/local/lib/python2.7/dist-packages/matplotlib/image.pyc\u001b[0m in \u001b[0;36mset_data\u001b[0;34m(self, A)\u001b[0m\n\u001b[1;32m    594\u001b[0m         if (self._A.dtype != np.uint8 and\n\u001b[1;32m    595\u001b[0m                 not np.can_cast(self._A.dtype, np.float)):\n\u001b[0;32m--> 596\u001b[0;31m             \u001b[0;32mraise\u001b[0m \u001b[0mTypeError\u001b[0m\u001b[0;34m(\u001b[0m\u001b[0;34m\"Image data can not convert to float\"\u001b[0m\u001b[0;34m)\u001b[0m\u001b[0;34m\u001b[0m\u001b[0m\n\u001b[0m\u001b[1;32m    597\u001b[0m \u001b[0;34m\u001b[0m\u001b[0m\n\u001b[1;32m    598\u001b[0m         if (self._A.ndim not in (2, 3) or\n",
      "\u001b[0;31mTypeError\u001b[0m: Image data can not convert to float"
     ]
    },
    {
     "data": {
      "image/png": "[encoded data removed]",
      "text/plain": [
       "<matplotlib.figure.Figure at 0x7fae0c10d710>"
      ]
     },
     "metadata": {},
     "output_type": "display_data"
    }
   ],
   "source": [
    "imim=cv2.imread(\"/home/dl1/src/P1/dataset/val/images/p1026i020.jpg\")\n",
    "plt.imshow(imim)"
   ]
  },
  {
   "cell_type": "code",
   "execution_count": 44,
   "metadata": {
    "scrolled": true
   },
   "outputs": [
    {
     "name": "stdout",
     "output_type": "stream",
     "text": [
      "Sliding Done\n"
     ]
    }
   ],
   "source": [
    "SWL(imim,8,\"D\")"
   ]
  },
  {
   "cell_type": "code",
   "execution_count": 48,
   "metadata": {
    "collapsed": true
   },
   "outputs": [
    {
     "name": "stdout",
     "output_type": "stream",
     "text": [
      "201601\n"
     ]
    }
   ],
   "source": [
    "while True :\n",
    "    for i in range(64):\n",
    "        for k in range(64):\n",
    "            im_input=Sliced[k][np.newaxis, np.newaxis :, :]\n",
    "            img = im_input.transpose( (0,3,1,2) )\n",
    "            net.blobs['data'].data[k][...] = img\n",
    "        \n",
    "        output=net.forward()\n",
    "        result = np.array(cv2.imread(image))\n",
    "        for j in range(64):\n",
    "            a = net.blobs[\"fc2\"].data[j][0]\n",
    "            b = net.blobs[\"fc2\"].data[j][1]\n",
    "            c = net.blobs[\"fc2\"].data[j][2]\n",
    "            if b>a and b>c:\n",
    "                Masking(result,j,\"B\")\n",
    "            elif c>a and c>b:\n",
    "                Masking(result,j,\"M\")\n",
    "        for i in range(512):\n",
    "            for j in range(512):\n",
    "                if ROI[i][j][0] >0:\n",
    "                    result[i][j][1]=255\n",
    "    "
   ]
  },
  {
   "cell_type": "code",
   "execution_count": null,
   "metadata": {
    "collapsed": true
   },
   "outputs": [],
   "source": [
    "    for i in range(64):\n",
    "        im_input=Sliced[i][np.newaxis, np.newaxis :, :]\n",
    "        img = im_input.transpose( (0,3,1,2) )\n",
    "        net.blobs['data'].data[i][...] = img"
   ]
  },
  {
   "cell_type": "code",
   "execution_count": 18,
   "metadata": {},
   "outputs": [
    {
     "name": "stdout",
     "output_type": "stream",
     "text": [
      "2\n"
     ]
    }
   ],
   "source": []
  },
  {
   "cell_type": "code",
   "execution_count": null,
   "metadata": {},
   "outputs": [],
   "source": []
  }
 ],
 "metadata": {
  "kernelspec": {
   "display_name": "Python 3",
   "language": "python",
   "name": "python3"
  },
  "language_info": {
   "codemirror_mode": {
    "name": "ipython",
    "version": 3
   },
   "file_extension": ".py",
   "mimetype": "text/x-python",
   "name": "python",
   "nbconvert_exporter": "python",
   "pygments_lexer": "ipython3",
   "version": "3.6.2"
  }
 },
 "nbformat": 4,
 "nbformat_minor": 2
}
