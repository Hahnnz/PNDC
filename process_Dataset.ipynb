{
 "cells": [
  {
   "cell_type": "code",
   "execution_count": 1,
   "metadata": {},
   "outputs": [],
   "source": [
    "from scripts.config import *\n",
    "from scripts import dataset,tools\n",
    "from scripts import preprocessing as pp\n",
    "\n",
    "import matplotlib.pyplot as plt\n",
    "%matplotlib inline"
   ]
  },
  {
   "cell_type": "code",
   "execution_count": 2,
   "metadata": {},
   "outputs": [
    {
     "name": "stderr",
     "output_type": "stream",
     "text": [
      "[Phase : train] / [Class : benign]: 100%|██████████| 7956/7956 [2:21:17<00:00,  1.06s/it]  \n",
      "[Phase : train] / [Class : malignant]: 100%|██████████| 8872/8872 [2:37:24<00:00,  1.05s/it]  \n",
      "[Phase : test] / [Class : benign]: 100%|██████████| 2520/2520 [44:56<00:00,  1.06s/it]\n",
      "[Phase : test] / [Class : malignant]: 100%|██████████| 2264/2264 [40:22<00:00,  1.06s/it]\n"
     ]
    },
    {
     "data": {
      "text/plain": [
       "<scripts.dataset.LMDB at 0x7f15cf5019b0>"
      ]
     },
     "execution_count": 2,
     "metadata": {},
     "output_type": "execute_result"
    }
   ],
   "source": [
    "# load and augment dataset. and save it with lmdb\n",
    "b_theta_set = [20,40,60,80,100,120,140,160,180,200,220,240,260,280,300,320,340]\n",
    "m_theta_set = [100,200,300]\n",
    "\n",
    "# Train - Bengin and None\n",
    "tr_benign = dataset.load('benign','train',train_img_root_b, train_roi_root_b,\n",
    "                      Rotate=True, Fliplr=True,theta_set=b_theta_set)\n",
    "dataset.LMDB(Class='benign',Phase='train',mode='write',dataset=tr_benign.dataset)\n",
    "\n",
    "# Train - Malignant and None\n",
    "tr_malignant = dataset.load('malignant','train',train_img_root_m, train_roi_root_m,\n",
    "                      Rotate=True, Fliplr=True,theta_set=m_theta_set)\n",
    "dataset.LMDB(Class='malignant',Phase='train',mode='write',dataset=tr_malignant.dataset)\n",
    "\n",
    "# Test - Benign and None\n",
    "val_benign = dataset.load('benign','test',val_img_root_b, val_roi_root_b,\n",
    "                      Rotate=True, Fliplr=True,theta_set=b_theta_set)\n",
    "dataset.LMDB(Class='benign',Phase='test',mode='write',dataset=val_benign.dataset)\n",
    "\n",
    "# Test - Malignant and None\n",
    "val_malignant = dataset.load('malignant','test',val_img_root_m, val_roi_root_m,\n",
    "                      Rotate=True, Fliplr=True, theta_set=m_theta_set)\n",
    "dataset.LMDB(Class='malignant',Phase='test',mode='write',dataset=val_malignant.dataset)\n",
    "\n",
    "# Train - Class-None Save\n",
    "dataset.LMDB(Class='none',Phase='train',mode='write',dataset=tr_malignant.dataset)\n",
    "\n",
    "# Test - Class-None Save\n",
    "dataset.LMDB(Class='none',Phase='test',mode='write',dataset=val_malignant.dataset)"
   ]
  }
 ],
 "metadata": {
  "kernelspec": {
   "display_name": "Python 3",
   "language": "python",
   "name": "python3"
  },
  "language_info": {
   "codemirror_mode": {
    "name": "ipython",
    "version": 3
   },
   "file_extension": ".py",
   "mimetype": "text/x-python",
   "name": "python",
   "nbconvert_exporter": "python",
   "pygments_lexer": "ipython3",
   "version": "3.5.2"
  }
 },
 "nbformat": 4,
 "nbformat_minor": 2
}
