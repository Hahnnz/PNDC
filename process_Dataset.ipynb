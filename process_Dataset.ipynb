{
 "cells": [
  {
   "cell_type": "code",
   "execution_count": null,
   "metadata": {},
   "outputs": [],
   "source": [
    "from scripts.config import *\n",
    "from scripts import dataset,tools\n",
    "from scripts import preprocessing as pp\n",
    "\n",
    "import matplotlib.pyplot as plt\n",
    "%matplotlib inline"
   ]
  },
  {
   "cell_type": "code",
   "execution_count": null,
   "metadata": {},
   "outputs": [
    {
     "name": "stderr",
     "output_type": "stream",
     "text": [
      "[Phase : train] / [Class : benign]:   9%|▉         | 724/7956 [12:50<2:07:25,  1.06s/it]"
     ]
    }
   ],
   "source": [
    "tr_benign = dataset.load('benign','train',train_img_root_b, train_roi_root_b,\n",
    "                      Rotate=True, Fliplr=True,\n",
    "                      theta_set=[20,40,60,80,100,120,140,160,180,200,220,240,260,280,300,320,340])\n",
    "dataset.LMDB(Class='benign',Phase='train',mode='write',dataset=tr_benign.dataset)\n",
    "\n",
    "tr_malignant = dataset.load('malignant','train',train_img_root_m, train_roi_root_m,\n",
    "                      Rotate=True, Fliplr=True,\n",
    "                      theta_set=[100,200,300])\n",
    "dataset.LMDB(Class='malignant',Phase='train',mode='write',dataset=tr_malignant.dataset)\n",
    "\n",
    "val_benign = dataset.load('benign','test',val_img_root_b, val_roi_root_b,\n",
    "                      Rotate=True, Fliplr=True,\n",
    "                      theta_set=[20,40,60,80,100,120,140,160,180,200,220,240,260,280,300,320,340])\n",
    "dataset.LMDB(Class='benign',Phase='test',mode='write',dataset=val_benign.dataset)\n",
    "\n",
    "val_malignant = dataset.load('malignant','test',val_img_root_m, val_roi_root_m,\n",
    "                      Rotate=True, Fliplr=True,\n",
    "                      theta_set=[100,200,300])\n",
    "dataset.LMDB(Class='malignant',Phase='test',mode='write',dataset=val_malignant.dataset)"
   ]
  },
  {
   "cell_type": "code",
   "execution_count": null,
   "metadata": {},
   "outputs": [],
   "source": []
  }
 ],
 "metadata": {
  "kernelspec": {
   "display_name": "Python 3",
   "language": "python",
   "name": "python3"
  },
  "language_info": {
   "codemirror_mode": {
    "name": "ipython",
    "version": 3
   },
   "file_extension": ".py",
   "mimetype": "text/x-python",
   "name": "python",
   "nbconvert_exporter": "python",
   "pygments_lexer": "ipython3",
   "version": "3.5.2"
  }
 },
 "nbformat": 4,
 "nbformat_minor": 2
}
